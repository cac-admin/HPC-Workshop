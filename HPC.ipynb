{
 "cells": [
  {
   "cell_type": "code",
   "execution_count": 23,
   "metadata": {},
   "outputs": [],
   "source": [
    "## Sync Execution"
   ]
  },
  {
   "cell_type": "code",
   "execution_count": 24,
   "metadata": {},
   "outputs": [
    {
     "name": "stdout",
     "output_type": "stream",
     "text": [
      "0 squared results in a/an zero number \n",
      "1 squared results in a/an odd number \n",
      "2 squared results in a/an even number \n",
      "3 squared results in a/an odd number \n",
      "4 squared results in a/an even number \n",
      "5 squared results in a/an odd number \n",
      "6 squared results in a/an even number \n",
      "7 squared results in a/an odd number \n",
      "8 squared results in a/an even number \n",
      "9 squared results in a/an odd number \n",
      "\n",
      "That took 20.020225048065186 seconds\n"
     ]
    }
   ],
   "source": [
    "import time \n",
    "\n",
    "def basic_func(x): \n",
    "   time.sleep(2)\n",
    "   if x == 0: \n",
    "     return 'zero'\n",
    "   elif x%2 == 0: \n",
    "     return 'even' \n",
    "   else: \n",
    "     return 'odd'\n",
    "\n",
    "starttime = time.time() \n",
    "\n",
    "final_results = ''\n",
    "\n",
    "for i in range(0,10): \n",
    "   y = i*i \n",
    "   results = basic_func(y)\n",
    "   final_results += str(i) + ' squared results in a/an ' + results + ' number \\n'\n",
    "\n",
    "print(final_results)\n",
    "print('That took {} seconds'.format(time.time() - starttime)) \n"
   ]
  },
  {
   "cell_type": "code",
   "execution_count": 25,
   "metadata": {},
   "outputs": [],
   "source": [
    "## Multiprocessing Execution"
   ]
  },
  {
   "cell_type": "code",
   "execution_count": 26,
   "metadata": {},
   "outputs": [
    {
     "name": "stdout",
     "output_type": "stream",
     "text": [
      "0 squared results in a/an zero number\n",
      "1 squared results in a/an odd number\n",
      "2 squared results in a/an even number\n",
      "3 squared results in a/an odd number\n",
      "4 squared results in a/an even number\n",
      "5 squared results in a/an odd number\n",
      "6 squared results in a/an even number\n",
      "7 squared results in a/an odd number\n",
      "8 squared results in a/an even number\n",
      "9 squared results in a/an odd number\n",
      "That took 2.1266958713531494 seconds\n"
     ]
    }
   ],
   "source": [
    "import time\n",
    "import multiprocessing \n",
    "\n",
    "def basic_func(x):\n",
    "    time.sleep(2)\n",
    "    if x == 0:\n",
    "        return 'zero'\n",
    "    elif x%2 == 0:\n",
    "        return 'even'\n",
    "    else:\n",
    "        return 'odd'\n",
    "\n",
    "def multiprocessing_func(x):\n",
    "    y = x*x\n",
    "    print('{} squared results in a/an {} number'.format(x, basic_func(y)))\n",
    "                                                \n",
    "if __name__ == '__main__':\n",
    "    starttime = time.time()\n",
    "    processes = []\n",
    "    for i in range(0,10):\n",
    "        p = multiprocessing.Process(target=multiprocessing_func, args=(i,))\n",
    "        processes.append(p)\n",
    "        p.start()\n",
    "                                                                                                              \n",
    "    for process in processes:\n",
    "        process.join()\n",
    "                                                                                                 \n",
    "    print('That took {} seconds'.format(time.time() - starttime))\n"
   ]
  },
  {
   "cell_type": "code",
   "execution_count": 27,
   "metadata": {},
   "outputs": [],
   "source": [
    "## Dask Execution"
   ]
  },
  {
   "cell_type": "code",
   "execution_count": 28,
   "metadata": {},
   "outputs": [
    {
     "name": "stdout",
     "output_type": "stream",
     "text": [
      "0 squared results in a/an zero number \n",
      "1 squared results in a/an odd number \n",
      "2 squared results in a/an even number \n",
      "3 squared results in a/an odd number \n",
      "4 squared results in a/an even number \n",
      "5 squared results in a/an odd number \n",
      "6 squared results in a/an even number \n",
      "7 squared results in a/an odd number \n",
      "8 squared results in a/an even number \n",
      "9 squared results in a/an odd number \n",
      "\n",
      "That took 2.017840623855591 seconds\n"
     ]
    }
   ],
   "source": [
    "import time \n",
    "from dask import delayed\n",
    "\n",
    "def basic_func(x): \n",
    "    time.sleep(2) \n",
    "    if x == 0: \n",
    "        return 'zero' \n",
    "    elif x%2 == 0: \n",
    "        return 'even' \n",
    "    else: \n",
    "        return 'odd' \n",
    "\n",
    "starttime = time.time() \n",
    "\n",
    "delayed_basic_func = delayed(basic_func)\n",
    "\n",
    "final_results = ''\n",
    "\n",
    "for i in range(0,10): \n",
    "    y = i*i \n",
    "    delayed_results = delayed_basic_func(y) # or delayed(basic_func)(y)\n",
    "    final_results += str(i) + ' squared results in a/an ' + delayed_results + ' number \\n'\n",
    "\n",
    "    \n",
    "print(final_results.compute())\n",
    "print('That took {} seconds'.format(time.time() - starttime)) \n",
    "\n"
   ]
  },
  {
   "cell_type": "code",
   "execution_count": null,
   "metadata": {},
   "outputs": [],
   "source": [
    "## Nympy Arrays"
   ]
  },
  {
   "cell_type": "code",
   "execution_count": 29,
   "metadata": {},
   "outputs": [
    {
     "name": "stdout",
     "output_type": "stream",
     "text": [
      "[ 9.99960599 10.0004581   9.99946486 ...  9.99990647  9.99971249\n",
      "  9.99900106]\n",
      "CPU times: user 38.7 s, sys: 6.53 s, total: 45.3 s\n",
      "Wall time: 39.5 s\n"
     ]
    }
   ],
   "source": [
    "%%time\n",
    "import numpy as np \n",
    "x = np.random.normal(10, 0.1, size=(20000, 20000))\n",
    "y = x.mean(axis=0) \n",
    "print(y) \n"
   ]
  },
  {
   "cell_type": "code",
   "execution_count": null,
   "metadata": {},
   "outputs": [],
   "source": [
    "## Dask Arrays"
   ]
  },
  {
   "cell_type": "code",
   "execution_count": 4,
   "metadata": {},
   "outputs": [
    {
     "name": "stdout",
     "output_type": "stream",
     "text": [
      "[ 9.99952498  9.99901692 10.00107679 ... 10.00020655  9.99928667\n",
      "  9.99890999]\n",
      "CPU times: user 44.4 s, sys: 44.2 s, total: 1min 28s\n",
      "Wall time: 2.32 s\n"
     ]
    }
   ],
   "source": [
    "%%time \n",
    "import dask.array as da \n",
    "# Use Dask Array to cut into 1000x1000 sized chunks, 8MB/chunck, 20X20 chunks\n",
    "x = da.random.normal(10, 0.1, size=(20000, 20000), chunks=(1000, 1000))\n",
    "# or create dash array from np array using\n",
    "# x = da.from_array(nparray, chunks=(1000,))\n",
    "y = x.mean(axis=0) # Perform NumPy-style operations \n",
    "print(y.compute()) \n"
   ]
  },
  {
   "cell_type": "code",
   "execution_count": null,
   "metadata": {},
   "outputs": [],
   "source": [
    "## Pandas Dataframes"
   ]
  },
  {
   "cell_type": "code",
   "execution_count": null,
   "metadata": {},
   "outputs": [],
   "source": [
    "import os\n",
    "from glob import glob\n",
    "import pandas as pd\n",
    "\n",
    "filenames = sorted(glob(os.path.join('data', 'nycflights', '*.csv')))\n",
    "sums = []\n",
    "counts = []\n",
    "for fn in filenames:\n",
    "    df = pd.read_csv(fn)\n",
    "    by_origin = df.groupby('Origin')\n",
    "    total = by_origin.DepDelay.sum()\n",
    "    count = by_origin.DepDelay.count()\n",
    "    sums.append(total)\n",
    "    counts.append(count)\n",
    "\n",
    "# Combine intermediates to get total mean-delay-per-origin\n",
    "total_delays = sum(sums)\n",
    "n_flights = sum(counts)\n",
    "mean = total_delays / n_flights\n",
    "print(mean)"
   ]
  },
  {
   "cell_type": "code",
   "execution_count": null,
   "metadata": {},
   "outputs": [],
   "source": [
    "## Dask Dataframes"
   ]
  },
  {
   "cell_type": "code",
   "execution_count": null,
   "metadata": {},
   "outputs": [],
   "source": [
    "import dask.dataframe as dd\n",
    "df = dd.read_csv(\"data/nycflights/*.csv\")\n",
    "mean = df.groupby(\"Origin\").DepDelay.mean()\n",
    "print(mean.compute())\n",
    "Wall time: 2.58 s"
   ]
  }
 ],
 "metadata": {
  "kernelspec": {
   "display_name": "Python 3",
   "language": "python",
   "name": "python3"
  },
  "language_info": {
   "codemirror_mode": {
    "name": "ipython",
    "version": 3
   },
   "file_extension": ".py",
   "mimetype": "text/x-python",
   "name": "python",
   "nbconvert_exporter": "python",
   "pygments_lexer": "ipython3",
   "version": "3.6.8"
  }
 },
 "nbformat": 4,
 "nbformat_minor": 2
}
